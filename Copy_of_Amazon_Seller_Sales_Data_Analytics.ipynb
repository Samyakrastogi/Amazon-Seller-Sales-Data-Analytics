{
  "nbformat": 4,
  "nbformat_minor": 0,
  "metadata": {
    "colab": {
      "name": "Copy of Amazon Seller Sales Data Analytics.ipynb",
      "provenance": [],
      "collapsed_sections": [],
      "authorship_tag": "ABX9TyOi/WB5PyUcSFj/JcZ9iLEp",
      "include_colab_link": true
    },
    "kernelspec": {
      "name": "python3",
      "display_name": "Python 3"
    },
    "language_info": {
      "name": "python"
    }
  },
  "cells": [
    {
      "cell_type": "markdown",
      "metadata": {
        "id": "view-in-github",
        "colab_type": "text"
      },
      "source": [
        "<a href=\"https://colab.research.google.com/github/Samyakrastogi/Amazon-Seller-Sales-Data-Analytics/blob/main/Copy_of_Amazon_Seller_Sales_Data_Analytics.ipynb\" target=\"_parent\"><img src=\"https://colab.research.google.com/assets/colab-badge.svg\" alt=\"Open In Colab\"/></a>"
      ]
    },
    {
      "cell_type": "code",
      "metadata": {
        "id": "hiTUUurV3GLp"
      },
      "source": [
        "import pandas as pd\n",
        "\n",
        "df = pd.read_csv('amazon_orders.csv')\n",
        "df.head(10)"
      ],
      "execution_count": null,
      "outputs": []
    },
    {
      "cell_type": "code",
      "metadata": {
        "id": "WzAsZP3d4afA"
      },
      "source": [
        "df.shape\n"
      ],
      "execution_count": null,
      "outputs": []
    },
    {
      "cell_type": "code",
      "metadata": {
        "id": "jEvPO0rH4ie3"
      },
      "source": [
        "df.isnull()"
      ],
      "execution_count": null,
      "outputs": []
    },
    {
      "cell_type": "code",
      "metadata": {
        "id": "zkGSnm2b4p6X"
      },
      "source": [
        "df = df.fillna(0)\n",
        "df.head(10) "
      ],
      "execution_count": null,
      "outputs": []
    },
    {
      "cell_type": "code",
      "metadata": {
        "id": "Q42mosKE6RmW"
      },
      "source": [
        "df[\"Total Charged\"] = df[\"Total Charged\"].astype(float)\n",
        "df.head()"
      ],
      "execution_count": null,
      "outputs": []
    },
    {
      "cell_type": "code",
      "metadata": {
        "id": "NzGW9lLv77nW"
      },
      "source": [
        "df[\"Total Charged\"].sum()"
      ],
      "execution_count": null,
      "outputs": []
    },
    {
      "cell_type": "code",
      "metadata": {
        "id": "7VDQgIHv8lDV"
      },
      "source": [
        "df[\"Total Charged\"].mean()"
      ],
      "execution_count": null,
      "outputs": []
    },
    {
      "cell_type": "code",
      "metadata": {
        "id": "tbBke_YO8oZ_"
      },
      "source": [
        "df[\"Total Charged\"].median()"
      ],
      "execution_count": null,
      "outputs": []
    },
    {
      "cell_type": "code",
      "metadata": {
        "id": "-nTUJVqz8q51"
      },
      "source": [
        "df[\"Total Charged\"].max()\n"
      ],
      "execution_count": null,
      "outputs": []
    },
    {
      "cell_type": "code",
      "metadata": {
        "id": "ltibYmiw8vzV"
      },
      "source": [
        "df[\"Total Charged\"].min()"
      ],
      "execution_count": null,
      "outputs": []
    },
    {
      "cell_type": "code",
      "metadata": {
        "id": "KLAx7PHF9IaF"
      },
      "source": [
        "df[\"Tax Charged\"] = df[\"Tax Charged\"].str.replace('$','').astype(float)\n",
        "df.head()"
      ],
      "execution_count": null,
      "outputs": []
    },
    {
      "cell_type": "code",
      "metadata": {
        "id": "YqFfJs979PS1"
      },
      "source": [
        "df[\"Tax Charged\"].sum()"
      ],
      "execution_count": null,
      "outputs": []
    },
    {
      "cell_type": "code",
      "metadata": {
        "id": "Mt-UQBLk9l-d"
      },
      "source": [
        "df[\"Tax Charged\"].sum() / df[\"Total Charged\"].sum()"
      ],
      "execution_count": null,
      "outputs": []
    },
    {
      "cell_type": "code",
      "metadata": {
        "id": "YsAzzWyp9qu1"
      },
      "source": [
        "df['Order Date'] = pd.to_datetime(df['Order Date'])\n",
        "df.head()"
      ],
      "execution_count": null,
      "outputs": []
    },
    {
      "cell_type": "code",
      "metadata": {
        "id": "hNz4L5qT9t1F"
      },
      "source": [
        "%matplotlib inline"
      ],
      "execution_count": null,
      "outputs": []
    },
    {
      "cell_type": "code",
      "metadata": {
        "id": "j8Kdn3y_9wyG"
      },
      "source": [
        "df.plot.bar(x='Order Date', y='Total Charged', rot=90)"
      ],
      "execution_count": null,
      "outputs": []
    },
    {
      "cell_type": "code",
      "metadata": {
        "id": "6kI-yCRt94MN"
      },
      "source": [
        "df.plot.bar(x='Order Date', y='Total Charged', rot=90, figsize=(20,10))"
      ],
      "execution_count": null,
      "outputs": []
    },
    {
      "cell_type": "code",
      "metadata": {
        "id": "xo2U2gtF-GIu"
      },
      "source": [
        "daily_orders = df.groupby('Order Date').sum()[\"Total Charged\"]\n",
        "daily_orders.head()"
      ],
      "execution_count": null,
      "outputs": []
    },
    {
      "cell_type": "code",
      "metadata": {
        "id": "wTW6IgNJ-Km8"
      },
      "source": [
        "daily_orders.plot.bar(figsize=(20,10))"
      ],
      "execution_count": null,
      "outputs": []
    },
    {
      "cell_type": "code",
      "metadata": {
        "id": "PtWvYfkG-QB1"
      },
      "source": [
        ""
      ],
      "execution_count": null,
      "outputs": []
    }
  ]
}